{
 "cells": [
  {
   "cell_type": "code",
   "execution_count": null,
   "metadata": {},
   "outputs": [],
   "source": [
    "using JSON, Distributions, ProgressMeter, Distances, Plots, DataFrames, Clustering, LightGraphs, SimpleWeightedGraphs, Colors, GraphPlot"
   ]
  },
  {
   "cell_type": "markdown",
   "metadata": {},
   "source": [
    "Here's where you want to input your mon vs mon matrix. You'll probably also need to change the get_name function below"
   ]
  },
  {
   "cell_type": "code",
   "execution_count": null,
   "metadata": {},
   "outputs": [],
   "source": [
    "vs_matrix = "
   ]
  },
  {
   "cell_type": "code",
   "execution_count": null,
   "metadata": {},
   "outputs": [],
   "source": [
    "function get_distance_matrix(vs_matrix)\n",
    "    d_matrix = pairwise(Euclidean(), vs_matrix) \n",
    "    d_matrix = convert(Array{T} where T <: AbstractFloat, d_matrix)\n",
    "    return d_matrix\n",
    "end"
   ]
  },
  {
   "cell_type": "code",
   "execution_count": null,
   "metadata": {},
   "outputs": [],
   "source": [
    "d_matrix = get_distance_matrix(vs_matrix)"
   ]
  },
  {
   "cell_type": "code",
   "execution_count": null,
   "metadata": {},
   "outputs": [],
   "source": [
    "means = []\n",
    "stds = []\n",
    "@showprogress for n = 2:length(meta)\n",
    "    scores = []\n",
    "    for j = 1:10_000\n",
    "        clusters = kmeans(vs_matrix, n)\n",
    "        a = assignments(clusters)\n",
    "        c = counts(clusters)\n",
    "        score = mean(silhouettes(a, c, d_matrix))\n",
    "        push!(scores, score)\n",
    "    end\n",
    "    push!(means, mean(scores))\n",
    "    push!(stds, std(scores))\n",
    "end"
   ]
  },
  {
   "cell_type": "code",
   "execution_count": null,
   "metadata": {},
   "outputs": [],
   "source": [
    "n = 10"
   ]
  },
  {
   "cell_type": "code",
   "execution_count": null,
   "metadata": {},
   "outputs": [],
   "source": [
    "function get_submatrix(group1, group2)\n",
    "    n1 = length(group1)\n",
    "    n2 = length(group2)\n",
    "    submatrix = zeros(n1, n2)\n",
    "    for i in 1:n1, j in 1:n2\n",
    "        submatrix[i, j] = vs_matrix[group1[i], group2[j]]\n",
    "    end\n",
    "    return submatrix\n",
    "end"
   ]
  },
  {
   "cell_type": "code",
   "execution_count": null,
   "metadata": {},
   "outputs": [],
   "source": [
    "function generate_graph(clusters; arrow_standard = 0.65)\n",
    "    n = nclusters(clusters)\n",
    "    a = assignments(clusters)\n",
    "    g = SimpleDiGraph(n)\n",
    "    scoreWeights = []\n",
    "    winWeights = []\n",
    "    for i = 1:(n - 1)\n",
    "        for j = (i + 1):n\n",
    "            i_team = findall(x -> x == i, a)\n",
    "            j_team = findall(x -> x == j, a)\n",
    "            submatrix = get_submatrix(i_team, j_team)\n",
    "            avgScore = mean(submatrix)\n",
    "            winPercentage = sum(submatrix .> 0.5) / length(submatrix)\n",
    "            if avgScore > arrow_standard && winPercentage > arrow_standard\n",
    "                add_edge!(g, i, j)\n",
    "                push!(scoreWeights, 2 * (avgScore - 0.5))\n",
    "                push!(winWeights, 2 * (winPercentage - 0.5))\n",
    "            elseif avgScore < 1 - arrow_standard && winPercentage < 1 - arrow_standard\n",
    "                add_edge!(g, j, i)\n",
    "                push!(scoreWeights, 2 * (0.5 - avgScore))\n",
    "                push!(winWeights, 2 * (0.5 - winPercentage))\n",
    "            end\n",
    "        end\n",
    "    end\n",
    "    return g, scoreWeights, winWeights\n",
    "end"
   ]
  },
  {
   "cell_type": "code",
   "execution_count": null,
   "metadata": {},
   "outputs": [],
   "source": [
    "get_name(i) = meta[i]"
   ]
  },
  {
   "cell_type": "code",
   "execution_count": null,
   "metadata": {},
   "outputs": [],
   "source": [
    "score = 0\n",
    "while true\n",
    "    clusters = kmeans(vs_matrix, n)\n",
    "    a = assignments(clusters)\n",
    "    c = counts(clusters)\n",
    "    score = mean(silhouettes(a, c, d_matrix))\n",
    "    if score > means[n] + 2 * stds[n]\n",
    "        println(score)\n",
    "        for i = 1:n\n",
    "            group = findall(x -> x == i, a)\n",
    "            print(\"Group \" * string(i))\n",
    "            println(get_name.(group))\n",
    "        end\n",
    "        global c = c\n",
    "        global g, scoreWeights, winWeights = generate_graph(clusters, arrow_standard = 0.65)\n",
    "        break\n",
    "    end\n",
    "end"
   ]
  },
  {
   "cell_type": "code",
   "execution_count": null,
   "metadata": {},
   "outputs": [],
   "source": [
    "gplot(g, nodelabel = 1:length(c), nodesize = c, edgelinewidth = winWeights, edgestrokec = weighted_color_mean.(scoreWeights, Ref(colorant\"black\"), Ref(colorant\"white\")))"
   ]
  }
 ],
 "metadata": {
  "@webio": {
   "lastCommId": null,
   "lastKernelId": null
  },
  "kernelspec": {
   "display_name": "Julia 1.4.0",
   "language": "julia",
   "name": "julia-1.4"
  },
  "language_info": {
   "file_extension": ".jl",
   "mimetype": "application/julia",
   "name": "julia",
   "version": "1.4.0"
  }
 },
 "nbformat": 4,
 "nbformat_minor": 2
}
