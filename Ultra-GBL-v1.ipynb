{
 "cells": [
  {
   "cell_type": "markdown",
   "metadata": {},
   "source": [
    "# Open Meta Team Ranker\n",
    "\n",
    "So here I've created an open meta team ranker based on PvPoke data from the top 55 ranked great league mons in PvPoke.com. All of this is done in Julia, but hopefully these little notes should clarify what the ranker is doing. I recommend running everything, and then reading through this. Some sections take a little bit of time to run (though mostly the inital data collection at 80ish seconds for 45 pokemon and the first histogram which can take a few minutes)."
   ]
  },
  {
   "cell_type": "markdown",
   "metadata": {},
   "source": [
    "## Getting Started\n",
    "\n",
    "### Installing Packages\n",
    "\n",
    "Here I'm just grabbing some of the packages I need. I'll be reading from CSVs into DataFrames and making plots and using random distributions for uncertainty. Basically, I'm just grabbing some tools that make my life easier programming. I also added a progress meter to the summary stats function."
   ]
  },
  {
   "cell_type": "code",
   "execution_count": 1,
   "metadata": {},
   "outputs": [],
   "source": [
    "using CSV, Plots, DataFrames, Distributions, ProgressMeter, Distributed, SharedArrays, Mmap\n",
    "gr();"
   ]
  },
  {
   "cell_type": "markdown",
   "metadata": {},
   "source": [
    "### Reading Data\n",
    "\n",
    "I've got a folder that contains the matrix battle CSV from PvPoke."
   ]
  },
  {
   "cell_type": "code",
   "execution_count": 2,
   "metadata": {
    "scrolled": true
   },
   "outputs": [
    {
     "data": {
      "text/html": [
       "<table class=\"data-frame\"><thead><tr><th></th><th>Column1</th><th>Giratina (Origin) SC+SB/OW</th><th>Giratina (Altered) SC+DC/AP</th></tr><tr><th></th><th>String</th><th>Int64</th><th>Int64</th></tr></thead><tbody><p>100 rows × 101 columns (omitted printing of 98 columns)</p><tr><th>1</th><td>Giratina (Origin) SC+SB/OW</td><td>500</td><td>564</td></tr><tr><th>2</th><td>Giratina (Altered) SC+DC/AP</td><td>435</td><td>500</td></tr><tr><th>3</th><td>Cresselia C+FS/M</td><td>248</td><td>586</td></tr><tr><th>4</th><td>Registeel LO+FC/FB</td><td>503</td><td>583</td></tr><tr><th>5</th><td>Heracross C+CC/M</td><td>121</td><td>189</td></tr><tr><th>6</th><td>Mew SC+O/P</td><td>398</td><td>348</td></tr><tr><th>7</th><td>Regirock LO+SE/FB</td><td>475</td><td>393</td></tr><tr><th>8</th><td>Swampert MS+HC/S</td><td>350</td><td>393</td></tr><tr><th>9</th><td>Muk (Alolan) S+GS/DP</td><td>536</td><td>686</td></tr><tr><th>10</th><td>Mewtwo (Armored) C+FS/RS</td><td>196</td><td>414</td></tr><tr><th>11</th><td>Regice LO+B/E</td><td>490</td><td>398</td></tr><tr><th>12</th><td>Gengar SC+SB/SB</td><td>276</td><td>258</td></tr><tr><th>13</th><td>Venusaur VW+FP/SB</td><td>271</td><td>348</td></tr><tr><th>14</th><td>Lugia DT+FS/SA</td><td>226</td><td>383</td></tr><tr><th>15</th><td>Blastoise WG+HC/SB</td><td>278</td><td>258</td></tr><tr><th>16</th><td>Typhlosion SC+O/BB</td><td>241</td><td>419</td></tr><tr><th>17</th><td>Kingdra DB+O/HP</td><td>503</td><td>345</td></tr><tr><th>18</th><td>Moltres WA+O/SA</td><td>181</td><td>120</td></tr><tr><th>19</th><td>Togekiss C+DG/AP</td><td>656</td><td>556</td></tr><tr><th>20</th><td>Hariyama C+CC/SP</td><td>174</td><td>172</td></tr><tr><th>21</th><td>Meganium VW+FP/PB</td><td>261</td><td>329</td></tr><tr><th>22</th><td>Gallade C+CC/LB</td><td>213</td><td>289</td></tr><tr><th>23</th><td>Clefable C+M/MM</td><td>565</td><td>631</td></tr><tr><th>24</th><td>Jirachi C+DD/P</td><td>226</td><td>386</td></tr><tr><th>25</th><td>Deoxys (Defense) C+PB/RS</td><td>62</td><td>253</td></tr><tr><th>26</th><td>Uxie C+FS/T</td><td>196</td><td>440</td></tr><tr><th>27</th><td>Feraligatr W+HC/C</td><td>405</td><td>334</td></tr><tr><th>28</th><td>Empoleon W+HC/FC</td><td>211</td><td>274</td></tr><tr><th>29</th><td>Zapdos TS+ZC/DP</td><td>208</td><td>305</td></tr><tr><th>30</th><td>Snorlax L+HB/SP</td><td>683</td><td>379</td></tr><tr><th>&vellip;</th><td>&vellip;</td><td>&vellip;</td><td>&vellip;</td></tr></tbody></table>"
      ],
      "text/latex": [
       "\\begin{tabular}{r|cccc}\n",
       "\t& Column1 & Giratina (Origin) SC+SB/OW & Giratina (Altered) SC+DC/AP & \\\\\n",
       "\t\\hline\n",
       "\t& String & Int64 & Int64 & \\\\\n",
       "\t\\hline\n",
       "\t1 & Giratina (Origin) SC+SB/OW & 500 & 564 & $\\dots$ \\\\\n",
       "\t2 & Giratina (Altered) SC+DC/AP & 435 & 500 & $\\dots$ \\\\\n",
       "\t3 & Cresselia C+FS/M & 248 & 586 & $\\dots$ \\\\\n",
       "\t4 & Registeel LO+FC/FB & 503 & 583 & $\\dots$ \\\\\n",
       "\t5 & Heracross C+CC/M & 121 & 189 & $\\dots$ \\\\\n",
       "\t6 & Mew SC+O/P & 398 & 348 & $\\dots$ \\\\\n",
       "\t7 & Regirock LO+SE/FB & 475 & 393 & $\\dots$ \\\\\n",
       "\t8 & Swampert MS+HC/S & 350 & 393 & $\\dots$ \\\\\n",
       "\t9 & Muk (Alolan) S+GS/DP & 536 & 686 & $\\dots$ \\\\\n",
       "\t10 & Mewtwo (Armored) C+FS/RS & 196 & 414 & $\\dots$ \\\\\n",
       "\t11 & Regice LO+B/E & 490 & 398 & $\\dots$ \\\\\n",
       "\t12 & Gengar SC+SB/SB & 276 & 258 & $\\dots$ \\\\\n",
       "\t13 & Venusaur VW+FP/SB & 271 & 348 & $\\dots$ \\\\\n",
       "\t14 & Lugia DT+FS/SA & 226 & 383 & $\\dots$ \\\\\n",
       "\t15 & Blastoise WG+HC/SB & 278 & 258 & $\\dots$ \\\\\n",
       "\t16 & Typhlosion SC+O/BB & 241 & 419 & $\\dots$ \\\\\n",
       "\t17 & Kingdra DB+O/HP & 503 & 345 & $\\dots$ \\\\\n",
       "\t18 & Moltres WA+O/SA & 181 & 120 & $\\dots$ \\\\\n",
       "\t19 & Togekiss C+DG/AP & 656 & 556 & $\\dots$ \\\\\n",
       "\t20 & Hariyama C+CC/SP & 174 & 172 & $\\dots$ \\\\\n",
       "\t21 & Meganium VW+FP/PB & 261 & 329 & $\\dots$ \\\\\n",
       "\t22 & Gallade C+CC/LB & 213 & 289 & $\\dots$ \\\\\n",
       "\t23 & Clefable C+M/MM & 565 & 631 & $\\dots$ \\\\\n",
       "\t24 & Jirachi C+DD/P & 226 & 386 & $\\dots$ \\\\\n",
       "\t25 & Deoxys (Defense) C+PB/RS & 62 & 253 & $\\dots$ \\\\\n",
       "\t26 & Uxie C+FS/T & 196 & 440 & $\\dots$ \\\\\n",
       "\t27 & Feraligatr W+HC/C & 405 & 334 & $\\dots$ \\\\\n",
       "\t28 & Empoleon W+HC/FC & 211 & 274 & $\\dots$ \\\\\n",
       "\t29 & Zapdos TS+ZC/DP & 208 & 305 & $\\dots$ \\\\\n",
       "\t30 & Snorlax L+HB/SP & 683 & 379 & $\\dots$ \\\\\n",
       "\t$\\dots$ & $\\dots$ & $\\dots$ & $\\dots$ &  \\\\\n",
       "\\end{tabular}\n"
      ],
      "text/plain": [
       "100×101 DataFrame. Omitted printing of 99 columns\n",
       "│ Row │ Column1                     │ Giratina (Origin) SC+SB/OW │\n",
       "│     │ \u001b[90mString\u001b[39m                      │ \u001b[90mInt64\u001b[39m                      │\n",
       "├─────┼─────────────────────────────┼────────────────────────────┤\n",
       "│ 1   │ Giratina (Origin) SC+SB/OW  │ 500                        │\n",
       "│ 2   │ Giratina (Altered) SC+DC/AP │ 435                        │\n",
       "│ 3   │ Cresselia C+FS/M            │ 248                        │\n",
       "│ 4   │ Registeel LO+FC/FB          │ 503                        │\n",
       "│ 5   │ Heracross C+CC/M            │ 121                        │\n",
       "│ 6   │ Mew SC+O/P                  │ 398                        │\n",
       "│ 7   │ Regirock LO+SE/FB           │ 475                        │\n",
       "│ 8   │ Swampert MS+HC/S            │ 350                        │\n",
       "│ 9   │ Muk (Alolan) S+GS/DP        │ 536                        │\n",
       "│ 10  │ Mewtwo (Armored) C+FS/RS    │ 196                        │\n",
       "⋮\n",
       "│ 90  │ Victreebel RL+LB/SB         │ 211                        │\n",
       "│ 91  │ Forretress BB+E/ST          │ 216                        │\n",
       "│ 92  │ Ludicolo RL+SB/IB           │ 271                        │\n",
       "│ 93  │ Magnezone S+ZC/WC           │ 92                         │\n",
       "│ 94  │ Ninetales (Alolan) C+B/IB   │ 539                        │\n",
       "│ 95  │ Hippowdon FF+E/BS           │ 223                        │\n",
       "│ 96  │ Lucario C+CC/PUP            │ 181                        │\n",
       "│ 97  │ Unfezant AS+HB/SA           │ 648                        │\n",
       "│ 98  │ Leafeon RL+LB/EB            │ 246                        │\n",
       "│ 99  │ Shiftry S+LB/FP             │ 585                        │\n",
       "│ 100 │ Scizor BP+IH/NS             │ 363                        │"
      ]
     },
     "execution_count": 2,
     "metadata": {},
     "output_type": "execute_result"
    }
   ],
   "source": [
    "rankings = CSV.read(\"open-ultra.csv\")\n",
    "const numMons = nrow(rankings)\n",
    "rankings"
   ]
  },
  {
   "cell_type": "markdown",
   "metadata": {},
   "source": [
    "### Colors\n",
    "\n",
    "Just defining some colors so that things look pretty. However, there aren't cup typings this time, so its fairly arbitrary as to which typing I choose to determine the color of each mon. For Alolan Ninetales, for instance, I think of ice first, and thus that is the color of Alolan Ninetales in this model. Feel free to change these around as you feel, but given that they are primarily an aesthetic choice, I elected to not put a whole lot of thought into which color each mon gets."
   ]
  },
  {
   "cell_type": "code",
   "execution_count": 3,
   "metadata": {},
   "outputs": [],
   "source": [
    "opacity = 0.7\n",
    "grass = RGBA(94/255,189/255,91/255, opacity); dragon = RGBA(14/255,104/255,184/255, opacity); dark = RGBA(86/255,86/255,99/255, opacity); normal = RGBA(153/255,159/255,161/255, opacity); fire = RGBA(254/255,163/255,84/255, opacity); ground = RGBA(212/255,141/255,91/255, opacity); poison = RGBA(193/255,98/255,212/255, opacity); rock = RGBA(208/255,196/255,142/255, opacity); ghost = RGBA(89/255,107/255,181/255, opacity); psychic = RGBA(245/255,126/255,121/255, opacity); ice = RGBA(120/255,212/255,192/255, opacity); water = RGBA(86/255,158/255,222/255, opacity); fighting = RGBA(213/255,63/255,91/255, opacity); steel = RGBA(82/255,142/255,160/255, opacity); fairy = RGBA(240/255,152/255,228/255, opacity); flying = RGBA(148/255,171/255,225/255, opacity); bug = RGBA(158/255,195/255,49/255, opacity); electric = RGBA(246/255,215/255,75/255, opacity);"
   ]
  },
  {
   "cell_type": "markdown",
   "metadata": {},
   "source": [
    "### Team Numbers\n",
    "\n",
    "Here I'm mapping the 3 mon teams to a number, such that each team has its own unique number from 1 to 12180 ($\\frac{30 \\cdot 29 \\cdot 28}{2}$)"
   ]
  },
  {
   "cell_type": "code",
   "execution_count": 4,
   "metadata": {},
   "outputs": [
    {
     "data": {
      "text/plain": [
       "prohibited (generic function with 1 method)"
      ]
     },
     "execution_count": 4,
     "metadata": {},
     "output_type": "execute_result"
    }
   ],
   "source": [
    "function prohibited(mon1, mon2, mon3)\n",
    "    if mon1 == 1 && mon2 == 2 || mon2 == 1 && mon1 == 2 || mon1 == 1 && mon3 == 2 || mon3 == 1 && mon1 == 2 || mon2 == 1 && mon3 == 2 || mon3 == 1 && mon2 == 2\n",
    "        return true\n",
    "    elseif mon1 == 10 && mon2 == 44 || mon2 == 10 && mon1 == 44 || mon1 == 10 && mon3 == 44 || mon3 == 10 && mon1 == 44 || mon2 == 10 && mon3 == 44 || mon3 == 10 && mon2 == 44\n",
    "        return true\n",
    "    elseif mon1 == 9 && mon2 == 81 || mon2 == 8 && mon1 == 81 || mon1 == 9 && mon3 == 81 || mon3 == 9 && mon1 == 81 || mon2 == 9 && mon3 == 81 || mon3 == 9 && mon2 == 81\n",
    "        return true\n",
    "    else\n",
    "        return false\n",
    "    end\n",
    "end"
   ]
  },
  {
   "cell_type": "code",
   "execution_count": 5,
   "metadata": {},
   "outputs": [],
   "source": [
    "const m = Matrix{Int64}[[mon1 mon2 mon3] for mon1 = 1:numMons, mon2 = 1:numMons, mon3 = 1:numMons if mon1 != mon2 && mon1 != mon3 && mon2 < mon3 && !prohibited(mon1, mon2, mon3)];"
   ]
  },
  {
   "cell_type": "code",
   "execution_count": 6,
   "metadata": {},
   "outputs": [
    {
     "data": {
      "text/plain": [
       "484218"
      ]
     },
     "execution_count": 6,
     "metadata": {},
     "output_type": "execute_result"
    }
   ],
   "source": [
    "const numTeams = length(m)\n",
    "numTeams"
   ]
  },
  {
   "cell_type": "code",
   "execution_count": 7,
   "metadata": {},
   "outputs": [],
   "source": [
    "teamNumberVar = zeros(numMons, numMons, numMons)\n",
    "@simd for i = 1:numTeams\n",
    "    @inbounds teamNumberVar[m[i][1], m[i][2], m[i][3]] = Int(i)\n",
    "end\n",
    "const teamNumber = teamNumberVar;"
   ]
  },
  {
   "cell_type": "markdown",
   "metadata": {},
   "source": [
    "### Setting Up the Tables\n",
    "\n",
    "I'm grabbing just the data I need and putting it in a constant (for SPEED) matrix, and also defining a matrix to store the outputs in."
   ]
  },
  {
   "cell_type": "code",
   "execution_count": 8,
   "metadata": {},
   "outputs": [],
   "source": [
    "# clean up ranking data for simulation\n",
    "# Defining as constant for SPEED\n",
    "const ranks = [rankings[i, j] for i = 1:numMons, j = 2:(numMons + 1)];"
   ]
  },
  {
   "cell_type": "code",
   "execution_count": 9,
   "metadata": {},
   "outputs": [],
   "source": [
    "const processes = 32\n",
    "addprocs(processes)\n",
    "@eval @everywhere const numMons=$numMons\n",
    "@eval @everywhere const m=$m\n",
    "@eval @everywhere const numTeams=$numTeams\n",
    "@eval @everywhere const ranks=$ranks\n",
    "@everywhere using Mmap\n",
    "@everywhere io = open(\"/tmp/mmap.bin\", \"w+\")\n",
    "@everywhere teamBattlesVar = Mmap.mmap(io, Array{UInt8, 2}, (numTeams, numTeams), shared = true)"
   ]
  },
  {
   "cell_type": "markdown",
   "metadata": {},
   "source": [
    "## The Model\n",
    "\n",
    "### Assumptions\n",
    "\n",
    "So, we all know assumptions are bad. But in data science, sometimes our models need to be simplified so we can work with the information that we have in a reasonable time scale. Therefore, I have made some simplifying assumptions for the model of PvP battles, and will add some uncertainty to account for some of the differences between this model and the reality of PvP battling.\n",
    "\n",
    "*   **No Switching:** Switching is a weird mechanic for which the timing is never consistent, when and if you should use it in scenario X is hotly debated, and then your opponent switches, which is a lot of variability. As will be a pretty common motivator among all of these reasons, if I have the home team switch perfectly, it involves some knowledge of the opposing team that you don't have in that situation. All of this to say, for this model, nobody switches because it makes everything work better, my life easier, and doesn't run the risk of having the model make decisions better than any player could be expected to. \n",
    "\n",
    "*   **Each Mon Gets One Shield:** I know, I know. Doesn't that add up to three shields? Well, yeah. But again, shielding choices add in some variability, and perfect use involves some knowledge of the opposing team that you don't have in that situation. Plus, then one data set is needed, the 1-1 shield matchups from PvPoke, which I believe also implicitly have the shield used on the first charged move. \n",
    "\n",
    "*   **Players Play Perfectly Otherwise:** Whoa. In all that avoidance of perfection, now I want my model to be perfect? Well, for one, this is just based on the assumptions in PvPoke. For two, I stand by that decision, as its perfection that's acheivable by the knowledge a player has in a particular situation. You may not know when to shield or switch, but you do probably know that you want an excellent charged move and to tap out fast moves (also I'm assuming everyone is on 1.57 or higher, because I do not want to deal with under or overtapping). Also, this model assumes the ideal moveset for each mon (though you can change that by changing the CSVs.\n",
    "\n",
    "*   **Putting a Mon in the Second Position is the Same as Putting it in the Third:** I think this assumption is generally accurate. I think I've seen arguments for putting the fast switch in the third position, but I'm also assuming players play perfectly and there's no switching, so I genuinely think this doesn't affect the model, but I'm including it anyway.\n",
    "\n",
    "*   **Mons Appear Uniformly Among the Top 30 Mons:** Sorry, Spoink fans. This is to keep the amount of data this processes to a reasonable amount. There is another version of this model that uses the Silph distribution instead, however, Silph data does not exist for the Ferocious Cup yet.\n",
    "\n",
    "*   **Score Above 1500 is a Win:** This is based on the PvPoke battle score, and since there are three battles, its out of 3000 instead of 1000. Scoring is explained more below, but this is the assumption of what we do with that score. \n",
    "\n",
    "None of these assumptions are set in stone. In fact, if you have a way to change them and think that that's more useful to you, 1) go ahead and 2) let me know how you did it. \n",
    "\n",
    "### Scoring\n",
    "\n",
    "I know, this section is already too long, just show you the data. But here's what the data means. Each PvPoke battle is given a score of 0-1000 with 500 representing a tie, and above that being a win, below that a loss. The score for the three-mon battle is adding those three scores together. But, that depends on which matchups you see. The lead pokemon always face each other. If your lead wins, you get the favorable matchups (because your opponent had to put in a pokemon and you can counter it), if your lead loses, you get the less favorable matchups. And, as stated above, over 1500 is a win."
   ]
  },
  {
   "cell_type": "code",
   "execution_count": 10,
   "metadata": {},
   "outputs": [],
   "source": [
    "@everywhere function individual_battle_verbose(home1::Integer,home2::Integer,home3::Integer,away1::Integer,away2::Integer,away3::Integer)\n",
    "    \n",
    "    @fastmath             score  = 1000 - ranks[away1, home1]\n",
    "    @fastmath secondBattleResult1 = 1000 - ranks[away2, home2]\n",
    "    @fastmath secondBattleResult2 = 1000 - ranks[away3, home2]\n",
    "    @fastmath thirdBattleResult1  = 1000 - ranks[away2, home3]\n",
    "    @fastmath thirdBattleResult2  = 1000 - ranks[away3, home3]\n",
    "\n",
    "    if score > 500 \n",
    "        @fastmath score += max(secondBattleResult2 + thirdBattleResult1, secondBattleResult1 + thirdBattleResult2) \n",
    "    elseif score < 500 \n",
    "        @fastmath score += min(secondBattleResult2 + thirdBattleResult1, secondBattleResult1 + thirdBattleResult2) \n",
    "    else\n",
    "        @fastmath score += (secondBattleResult2 + thirdBattleResult1 + secondBattleResult1 + thirdBattleResult2) ÷ 2\n",
    "    end \n",
    "    \n",
    "    return UInt8(score ÷ 30)\n",
    "    \n",
    "end;"
   ]
  },
  {
   "cell_type": "code",
   "execution_count": 11,
   "metadata": {},
   "outputs": [
    {
     "name": "stdout",
     "output_type": "stream",
     "text": [
      "  0.000002 seconds (4 allocations: 160 bytes)\n"
     ]
    },
    {
     "data": {
      "text/plain": [
       "0x30"
      ]
     },
     "execution_count": 11,
     "metadata": {},
     "output_type": "execute_result"
    }
   ],
   "source": [
    "individual_battle_verbose(1, 2, 3, 1, 2, 3)\n",
    "@time individual_battle_verbose(1, 2, 3, 1, 2, 4)"
   ]
  },
  {
   "cell_type": "code",
   "execution_count": 12,
   "metadata": {},
   "outputs": [],
   "source": [
    "@everywhere function run_away_teams_verbose(i::Integer, mon1::Integer, mon2::Integer, mon3::Integer)\n",
    "    @simd for j = 1:numTeams\n",
    "        # Do the battle!\n",
    "        # Use the function we wrote above\n",
    "        @fastmath @inbounds teamBattlesVar[j, i] = individual_battle_verbose(m[j][1],m[j][2],m[j][3], mon1,mon2,mon3)\n",
    "    end\n",
    "    Mmap.sync!(teamBattlesVar)\n",
    "end"
   ]
  },
  {
   "cell_type": "code",
   "execution_count": 13,
   "metadata": {},
   "outputs": [
    {
     "name": "stdout",
     "output_type": "stream",
     "text": [
      "  0.025452 seconds (967.93 k allocations: 14.770 MiB)\n"
     ]
    }
   ],
   "source": [
    "run_away_teams_verbose(2, 4, 1, 2)\n",
    "@time run_away_teams_verbose(numTeams, 3, 1, 2)"
   ]
  },
  {
   "cell_type": "code",
   "execution_count": 14,
   "metadata": {},
   "outputs": [],
   "source": [
    "GC.gc()"
   ]
  },
  {
   "cell_type": "code",
   "execution_count": 15,
   "metadata": {},
   "outputs": [
    {
     "data": {
      "text/plain": [
       "run_home_teams_verbose (generic function with 1 method)"
      ]
     },
     "execution_count": 15,
     "metadata": {},
     "output_type": "execute_result"
    }
   ],
   "source": [
    "function run_home_teams_verbose()\n",
    "    @sync @distributed for i = 1:numTeams\n",
    "        @inbounds run_away_teams_verbose(i,m[i][1],m[i][2],m[i][3])\n",
    "    end\n",
    "    rmprocs(2:(processes + 1))\n",
    "    GC.gc()\n",
    "    close(io)\n",
    "end"
   ]
  },
  {
   "cell_type": "code",
   "execution_count": null,
   "metadata": {},
   "outputs": [],
   "source": [
    "# Run once to compile, run again to test speed \n",
    "#run_home_teams_verbose()\n",
    "@time run_home_teams_verbose()"
   ]
  },
  {
   "cell_type": "markdown",
   "metadata": {},
   "source": [
    "### Summary Stats\n",
    "\n",
    "Here I'm going to save the summary stats for every team, where my summary stats are the number of wins, and the mean, variance, skewness, and kurtosis of the scores. "
   ]
  },
  {
   "cell_type": "code",
   "execution_count": null,
   "metadata": {},
   "outputs": [],
   "source": [
    "function generate_summary_stats()\n",
    "    summaryStats = zeros(numTeams, 5)\n",
    "    p = x -> (x < 50)\n",
    "    io = open(\"/tmp/mmap.bin\")\n",
    "    teamBattles = Mmap.mmap(io, Array{UInt8, 2}, (numTeams, numTeams), shared = true)\n",
    "    @showprogress for i = 1:numTeams\n",
    "        @inbounds team = teamBattles[:, i]\n",
    "        @fastmath numWins = count(p,team)\n",
    "        @inbounds @fastmath summaryStats[i, :] = [100*numWins/numTeams (100 - mean(team)) m[i][1] m[i][2] m[i][3]]\n",
    "    end\n",
    "    return summaryStats\n",
    "end"
   ]
  },
  {
   "cell_type": "code",
   "execution_count": null,
   "metadata": {},
   "outputs": [],
   "source": [
    "@time const summaryStats = generate_summary_stats()"
   ]
  },
  {
   "cell_type": "markdown",
   "metadata": {},
   "source": [
    "## Number of Wins\n",
    "\n",
    "Here we've got the information related to the number of wins. Below is a histogram of the number of teams vs their number of wins, a sorted list that shows the best and worst teams by number of wins, and a histogram comparing the scores of the best and worst teams by number of wins."
   ]
  },
  {
   "cell_type": "code",
   "execution_count": null,
   "metadata": {},
   "outputs": [],
   "source": [
    "histogram(summaryStats[:, 1], bins = 100, label = \"Number of Wins\", color = :blue, alpha =0.5, xlims = (0, 100))"
   ]
  },
  {
   "cell_type": "code",
   "execution_count": null,
   "metadata": {},
   "outputs": [],
   "source": [
    "f = open(\"ultra.txt\")\n",
    "lines = readlines(f)"
   ]
  },
  {
   "cell_type": "code",
   "execution_count": null,
   "metadata": {},
   "outputs": [],
   "source": [
    "sumStatsNumWins = sortslices(summaryStats, by=x->x[1], dims = 1, rev = true)\n",
    "\n",
    "names1 = Array{String}(undef, numTeams, 1)\n",
    "for i = 1:numTeams\n",
    "    names1[i, 1] = lines[Int(sumStatsNumWins[i, 3])]\n",
    "end\n",
    "\n",
    "names2 = Array{String}(undef, numTeams, 1)\n",
    "for i = 1:numTeams\n",
    "    names2[i, 1] = lines[Int(sumStatsNumWins[i, 4])]\n",
    "end\n",
    "\n",
    "names3 = Array{String}(undef, numTeams, 1)\n",
    "for i = 1:numTeams\n",
    "    names3[i, 1] = lines[Int(sumStatsNumWins[i, 5])]\n",
    "end\n",
    "\n",
    "teamNumbers = zeros(numTeams)\n",
    "for i = 1:numTeams\n",
    "    teamNumbers[i] = Int(teamNumber[Int(sumStatsNumWins[i, 3]), Int(sumStatsNumWins[i, 4]), Int(sumStatsNumWins[i, 5])])\n",
    "end\n",
    "\n",
    "sumStatsNumWins = hcat(sumStatsNumWins, names1)\n",
    "sumStatsNumWins = hcat(sumStatsNumWins, names2)\n",
    "sumStatsNumWins = hcat(sumStatsNumWins, names3)\n",
    "sumStatsNumWins = hcat(sumStatsNumWins, teamNumbers)\n",
    "\n",
    "sumStatsNumWins = DataFrame(sumStatsNumWins)\n",
    "\n",
    "rename!(sumStatsNumWins, Symbol(\"x1\")=>Symbol(\"Win %\"))\n",
    "rename!(sumStatsNumWins, Symbol(\"x2\")=>Symbol(\"Avg Score\"))\n",
    "select!(sumStatsNumWins, Not(:x3))\n",
    "select!(sumStatsNumWins, Not(:x4))\n",
    "select!(sumStatsNumWins, Not(:x5))\n",
    "rename!(sumStatsNumWins, Symbol(\"x6\")=>Symbol(\"Mon 1\"))\n",
    "rename!(sumStatsNumWins, Symbol(\"x7\")=>Symbol(\"Mon 2\"))\n",
    "rename!(sumStatsNumWins, Symbol(\"x8\")=>Symbol(\"Mon 3\"))\n",
    "rename!(sumStatsNumWins, Symbol(\"x9\")=>Symbol(\"Team Number\"));\n",
    "\n",
    "sumStatsNumWins"
   ]
  },
  {
   "cell_type": "code",
   "execution_count": null,
   "metadata": {},
   "outputs": [],
   "source": [
    "CSV.write(\"ultra.csv\", sumStatsNumWins)"
   ]
  },
  {
   "cell_type": "code",
   "execution_count": null,
   "metadata": {},
   "outputs": [],
   "source": [
    "summaryStats = sortslices(summaryStats, by=x->x[1], dims = 1, rev = true)"
   ]
  },
  {
   "cell_type": "code",
   "execution_count": null,
   "metadata": {},
   "outputs": [],
   "source": [
    "function get_top_counters(n::Integer, m::Integer)\n",
    "    counters = Array{String,2}(undef, n, m)\n",
    "    io = open(\"/tmp/mmap.bin\")\n",
    "    teamBattles = Mmap.mmap(io, Array{UInt8, 2}, (numTeams, numTeams), shared = true)\n",
    "    @showprogress for i = 1:n\n",
    "        num = 0\n",
    "        index = 0\n",
    "        @inbounds team = teamBattles[:, i]\n",
    "        while num < m\n",
    "            index += 1\n",
    "            team_index = Int(teamNumber[Int(summaryStats[index, 3]), Int(summaryStats[index, 4]), Int(summaryStats[index, 5])])\n",
    "            if team[team_index] < 30\n",
    "                num += 1\n",
    "                counters[i, num] = string(100 - team[team_index]) * \" \" * string(summaryStats[index, 1]) * \" \" * \n",
    "                    lines[Int(summaryStats[index, 3])] * \" \" * lines[Int(summaryStats[index, 4])] * \n",
    "                    \" \" * lines[Int(summaryStats[index, 5])]\n",
    "            end\n",
    "        end\n",
    "    end\n",
    "    close(io)\n",
    "    return counters\n",
    "end"
   ]
  },
  {
   "cell_type": "code",
   "execution_count": null,
   "metadata": {},
   "outputs": [],
   "source": [
    "@time const counters = get_top_counters(5000, 20)\n",
    "CSV.write(\"ultra-counters.csv\", DataFrame(counters))\n",
    "#DataFrame(counters)"
   ]
  },
  {
   "cell_type": "markdown",
   "metadata": {},
   "source": [
    "Here we've got the number of wins on average in every team a particular pokemon is a part of and rank them below, again showing the best and worst."
   ]
  },
  {
   "cell_type": "code",
   "execution_count": null,
   "metadata": {},
   "outputs": [],
   "source": [
    "avgNumOfWins = zeros(numMons, 2)\n",
    "for i = 1:numTeams\n",
    "    avgNumOfWins[m[i][1], 1] += summaryStats[i, 1]\n",
    "    avgNumOfWins[m[i][2], 1] += summaryStats[i, 1]\n",
    "    avgNumOfWins[m[i][3], 1] += summaryStats[i, 1]\n",
    "end\n",
    "for i = 1:numMons\n",
    "    avgNumOfWins[i, 2] = i\n",
    "    d = x -> (i in x)\n",
    "    divisor = count(d, m)\n",
    "    avgNumOfWins[i, 1] /= divisor\n",
    "end\n",
    "\n",
    "avgNumOfWinsSorted = sortslices(avgNumOfWins, by=x->x[1], dims = 1, rev = true)\n",
    "\n",
    "nameNumWins = Array{String}(undef, numMons, 1)\n",
    "for i = 1:numMons\n",
    "    nameNumWins[i, 1] = rankings[Int(avgNumOfWinsSorted[i, 2]), 1]\n",
    "end\n",
    "\n",
    "avgNumOfWinsSorted = hcat(avgNumOfWinsSorted, nameNumWins)\n",
    "\n",
    "avgNumOfWinsSorted = DataFrame(avgNumOfWinsSorted)\n",
    "\n",
    "rename!(avgNumOfWinsSorted, Symbol(\"x1\")=>Symbol(\"Win %\"))\n",
    "rename!(avgNumOfWinsSorted, Symbol(\"x2\")=>Symbol(\"Rank\"))\n",
    "rename!(avgNumOfWinsSorted, Symbol(\"x3\")=>Symbol(\"Name\"))"
   ]
  },
  {
   "cell_type": "markdown",
   "metadata": {},
   "source": [
    "Here I've plotted the PvPoke ranking compared to the average number of wins. I think its not necessarily a surprise that there's not a perfect correlation here (you don't put in the top 6 ranked mons generally), but there is a pretty clear negative slope here. The big spike I think is Lickilicky."
   ]
  },
  {
   "cell_type": "code",
   "execution_count": null,
   "metadata": {},
   "outputs": [],
   "source": [
    "histogram(avgNumOfWins[:, 1], bins = 20, label = \"Average Number of Wins\")"
   ]
  },
  {
   "cell_type": "code",
   "execution_count": null,
   "metadata": {},
   "outputs": [],
   "source": [
    "plot(1:numMons, avgNumOfWins[:, 1], label = \"Average Win %\")"
   ]
  },
  {
   "cell_type": "markdown",
   "metadata": {},
   "source": [
    "## Average Score\n",
    "\n",
    "Here we've got the information related to the average. Below is a histogram of the number of teams vs their average, a sorted list that shows the best and worst teams by average score, and a histogram comparing the scores of the best and worst teams by average score. Not that there are minor differences between the average score statistics and the number of wins. I generally consider number of wins to be a more useful statistic (as it doesn't necessarily matter to me how much I win by as long as I win), but I could see arguments for using this particular statistic instead."
   ]
  },
  {
   "cell_type": "code",
   "execution_count": null,
   "metadata": {},
   "outputs": [],
   "source": [
    "histogram(summaryStats[:, 2], label = \"Average Score\", color = :blue, alpha =0.5)\n",
    "vline!([50], label = \"W/L Cutoff\", color = :red)"
   ]
  },
  {
   "cell_type": "code",
   "execution_count": null,
   "metadata": {},
   "outputs": [],
   "source": [
    "sumStatsAvgScore = sortslices(summaryStats, by=x->x[2], dims = 1, rev = true)\n",
    "\n",
    "names1 = Array{String}(undef, numTeams, 1)\n",
    "for i = 1:numTeams\n",
    "    names1[i, 1] = rankings[Int(sumStatsAvgScore[i, 6]),1]\n",
    "end\n",
    "\n",
    "names2 = Array{String}(undef, numTeams, 1)\n",
    "for i = 1:numTeams\n",
    "    names2[i, 1] = rankings[Int(sumStatsAvgScore[i, 7]),1]\n",
    "end\n",
    "\n",
    "names3 = Array{String}(undef, numTeams, 1)\n",
    "for i = 1:numTeams\n",
    "    names3[i, 1] = rankings[Int(sumStatsAvgScore[i, 8]),1]\n",
    "end\n",
    "\n",
    "teamNumbers = zeros(numTeams)\n",
    "for i = 1:numTeams\n",
    "    teamNumbers[i] = Int(teamNumber[Int(sumStatsAvgScore[i, 6]), Int(sumStatsAvgScore[i, 7]), Int(sumStatsAvgScore[i, 8])])\n",
    "end\n",
    "\n",
    "sumStatsAvgScore = hcat(sumStatsAvgScore, names1)\n",
    "sumStatsAvgScore = hcat(sumStatsAvgScore, names2)\n",
    "sumStatsAvgScore = hcat(sumStatsAvgScore, names3)\n",
    "sumStatsAvgScore = hcat(sumStatsAvgScore, teamNumbers)\n",
    "\n",
    "sumStatsAvgScore = DataFrame(sumStatsAvgScore)\n",
    "\n",
    "rename!(sumStatsAvgScore, Symbol(\"x1\")=>Symbol(\"Win %\"))\n",
    "rename!(sumStatsAvgScore, Symbol(\"x2\")=>Symbol(\"Avg Score\"))\n",
    "select!(sumStatsAvgScore, Not(:x3))\n",
    "select!(sumStatsAvgScore, Not(:x4))\n",
    "select!(sumStatsAvgScore, Not(:x5))\n",
    "select!(sumStatsAvgScore, Not(:x6))\n",
    "select!(sumStatsAvgScore, Not(:x7))\n",
    "select!(sumStatsAvgScore, Not(:x8))\n",
    "rename!(sumStatsAvgScore, Symbol(\"x9\")=>Symbol(\"Mon 1\"))\n",
    "rename!(sumStatsAvgScore, Symbol(\"x10\")=>Symbol(\"Mon 2\"))\n",
    "rename!(sumStatsAvgScore, Symbol(\"x11\")=>Symbol(\"Mon 3\"))\n",
    "rename!(sumStatsAvgScore, Symbol(\"x12\")=>Symbol(\"Team Number\"));\n",
    "\n",
    "sumStatsAvgScore"
   ]
  },
  {
   "cell_type": "code",
   "execution_count": null,
   "metadata": {},
   "outputs": [],
   "source": [
    "avgScore = zeros(numMons, 2)\n",
    "avgScore = zeros(numMons, 2)\n",
    "for i = 1:numTeams\n",
    "    avgScore[m[i][1], 1] += summaryStats[i, 2]\n",
    "    avgScore[m[i][2], 1] += summaryStats[i, 2]\n",
    "    avgScore[m[i][3], 1] += summaryStats[i, 2]\n",
    "end\n",
    "for i = 1:numMons\n",
    "    avgScore[i, 2] = i\n",
    "    d = x -> (i in x)\n",
    "    divisor = count(d, m)\n",
    "    avgScore[i, 1] /= divisor\n",
    "end\n",
    "\n",
    "avgScoreSorted = sortslices(avgScore, by=x->x[1], dims = 1, rev = true)\n",
    "\n",
    "nameAvgScore = Array{String}(undef, numMons, 1)\n",
    "for i = 1:numMons\n",
    "    nameAvgScore[i, 1] = rankings[Int(avgScoreSorted[i, 2]), 1]\n",
    "end\n",
    "\n",
    "avgScoreSorted = hcat(avgScoreSorted, nameAvgScore)\n",
    "\n",
    "avgScoreSorted = DataFrame(avgScoreSorted)\n",
    "\n",
    "rename!(avgScoreSorted, Symbol(\"x1\")=>Symbol(\"Avg Score\"))\n",
    "rename!(avgScoreSorted, Symbol(\"x2\")=>Symbol(\"Rank\"))\n",
    "rename!(avgScoreSorted, Symbol(\"x3\")=>Symbol(\"Name\"))"
   ]
  },
  {
   "cell_type": "markdown",
   "metadata": {},
   "source": [
    "Again, there isn't a strong correlation with the average score to the PvPoke ranking, but that is to be expected. Also, average score is strongly correlated with the number of wins, which is also to be expected. So this particular statistic is not the same as number of wins, or even leads to the same conclusion, but they are correlated."
   ]
  },
  {
   "cell_type": "code",
   "execution_count": null,
   "metadata": {},
   "outputs": [],
   "source": [
    "plot(1:numMons, avgScore[:, 1], label = \"Average Score\")"
   ]
  },
  {
   "cell_type": "code",
   "execution_count": null,
   "metadata": {},
   "outputs": [],
   "source": [
    "plot(avgScore[:, 1], avgNumOfWins[:, 1], seriestype=:scatter, legend = false)"
   ]
  }
 ],
 "metadata": {
  "@webio": {
   "lastCommId": null,
   "lastKernelId": null
  },
  "kernelspec": {
   "display_name": "Julia 1.3.0",
   "language": "julia",
   "name": "julia-1.3"
  },
  "language_info": {
   "file_extension": ".jl",
   "mimetype": "application/julia",
   "name": "julia",
   "version": "1.3.0"
  },
  "widgets": {
   "application/vnd.jupyter.widget-state+json": {
    "state": {},
    "version_major": 2,
    "version_minor": 0
   }
  }
 },
 "nbformat": 4,
 "nbformat_minor": 2
}
